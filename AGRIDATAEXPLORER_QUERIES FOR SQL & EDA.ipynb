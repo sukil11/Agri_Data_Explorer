{
 "cells": [
  {
   "cell_type": "code",
   "execution_count": null,
   "id": "ef0312ae-a647-49af-8658-4efb34182e49",
   "metadata": {},
   "outputs": [],
   "source": []
  }
 ],
 "metadata": {
  "kernelspec": {
   "display_name": "",
   "name": ""
  },
  "language_info": {
   "name": ""
  }
 },
 "nbformat": 4,
 "nbformat_minor": 5
}
